{
 "cells": [
  {
   "cell_type": "markdown",
   "id": "c4ab77ad",
   "metadata": {},
   "source": [
    "Câu 1: Kiểm tra năm nhuần\n",
    "Yêu cầu:\n",
    "Nhập vào một năm bất kỳ, kiểm tra năm đó có phải năm nhuần hay không. Biết\n",
    "rằng: Năm nhuần là năm chia hết cho 4 nhưng không chia hết cho 100 hoặc chia\n",
    "hết cho 400"
   ]
  }
 ],
 "metadata": {
  "kernelspec": {
   "display_name": "Python 3",
   "language": "python",
   "name": "python3"
  },
  "language_info": {
   "name": "python",
   "version": "3.13.2"
  }
 },
 "nbformat": 4,
 "nbformat_minor": 5
}
