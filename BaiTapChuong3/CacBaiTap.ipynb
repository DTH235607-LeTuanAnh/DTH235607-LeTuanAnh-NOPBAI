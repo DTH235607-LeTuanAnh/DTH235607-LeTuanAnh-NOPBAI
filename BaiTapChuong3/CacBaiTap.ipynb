{
 "cells": [
  {
   "cell_type": "markdown",
   "id": "c4ab77ad",
   "metadata": {},
   "source": [
    "# Câu 1: Kiểm tra năm nhuần\n",
    "Yêu cầu:\n",
    "Nhập vào một năm bất kỳ, kiểm tra năm đó có phải năm nhuần hay không. Biết\n",
    "rằng: Năm nhuần là năm chia hết cho 4 nhưng không chia hết cho 100 hoặc chia\n",
    "hết cho 400"
   ]
  },
  {
   "cell_type": "code",
   "execution_count": 18,
   "id": "066e6aef",
   "metadata": {},
   "outputs": [
    {
     "name": "stdout",
     "output_type": "stream",
     "text": [
      "Chương trình kiểm tra năm nhuần\n",
      "Năm  2  không nhuần\n"
     ]
    }
   ],
   "source": [
    "print(\"Chương trình kiểm tra năm nhuần\")\n",
    "year=int(input(\"Mời Thím nhập vào 1 năm:\"))\n",
    "if (year % 4 ==0 and year % 100 != 0) or year % 400 == 0:\n",
    " print(\"Năm \", year, \" là năm nhuần\")\n",
    "else:\n",
    " print(\"Năm \", year, \" không nhuần\")\n"
   ]
  },
  {
   "cell_type": "markdown",
   "id": "2d28785f",
   "metadata": {},
   "source": [
    "# Câu 2: Đếm số ngày trong tháng\n",
    "Yêu cầu:\n",
    "Nhập vào 1 tháng, xuất tháng đó có bao nhiêu ngày.\n",
    "1,3,5,7,8,10,12➔31 ngày\n",
    "4,6,9,11➔có 30 ngày\n",
    "Nếu là tháng 2 thì yêu cầu nhập thêm năm. Năm nhuần thì tháng 2 có 29 ngày,\n",
    "không nhuần có 28 ngày"
   ]
  },
  {
   "cell_type": "code",
   "execution_count": 20,
   "id": "91922442",
   "metadata": {},
   "outputs": [
    {
     "name": "stdout",
     "output_type": "stream",
     "text": [
      "Chương trình đếm số ngày trong tháng\n",
      "Tháng  9  có 30 ngày\n"
     ]
    }
   ],
   "source": [
    "print(\"Chương trình đếm số ngày trong tháng\")\n",
    "month=int(input(\"Nhập vào 1 tháng:\"))\n",
    "if month in (1,3,5,7,8,10,12):\n",
    " print(\"Tháng \", month, \" có 31 ngày\")\n",
    "elif month in (4,6,9,11):\n",
    " print(\"Tháng \", month, \" có 30 ngày\")\n",
    "elif month==2:\n",
    " year=int(input(\"Mời bạn nhập vào năm:\"))\n",
    " if (year % 4 ==0 and year % 100 != 0) or year % (400==0):\n",
    "     print(\"Tháng \",month, \" có 29 ngày\")\n",
    " else:\n",
    "     print(\"Tháng \", month, \" có 28 ngày\")\n",
    "else:\n",
    " print(\"Tháng \", month, \" không hợp lệ\")"
   ]
  },
  {
   "cell_type": "markdown",
   "id": "1eeb042e",
   "metadata": {},
   "source": [
    "# Câu 3: Phương trình bậc 2\n",
    "Yêu cầu:\n",
    "Viết chương trình giải phương trình bậc 2: ax2+bx+c=0"
   ]
  },
  {
   "cell_type": "code",
   "execution_count": null,
   "id": "837bd6ab",
   "metadata": {},
   "outputs": [
    {
     "name": "stdout",
     "output_type": "stream",
     "text": [
      "Chương trình Giải Phương trình bậc 2\n",
      "Phương trình vô nghiệm\n"
     ]
    }
   ],
   "source": [
    "# ax^2 + bx + c = 0\n",
    "from math import sqrt\n",
    "\n",
    "print(\"Chương trình Giải Phương trình bậc 2\")\n",
    "\n",
    "a = float(input(\"Nhập a: \"))\n",
    "b = float(input(\"Nhập b: \"))\n",
    "c = float(input(\"Nhập c: \"))\n",
    "\n",
    "if a == 0:\n",
    "    # Phương trình trở thành bx + c = 0\n",
    "    if b == 0:\n",
    "        if c == 0:\n",
    "            print(\"Phương trình có vô số nghiệm\")\n",
    "        else:\n",
    "            print(\"Phương trình vô nghiệm\")\n",
    "    else:\n",
    "        x = -c / b\n",
    "        print(\"Phương trình có nghiệm x =\", x)\n",
    "else:\n",
    "    delta = b**2 - 4*a*c\n",
    "    if delta < 0:\n",
    "        print(\"Phương trình vô nghiệm\")\n",
    "    elif delta == 0:\n",
    "        x = -b / (2*a)\n",
    "        print(\"Phương trình có nghiệm kép x1 = x2 =\", x)\n",
    "    else:\n",
    "        x1 = (-b - sqrt(delta)) / (2*a)\n",
    "        x2 = (-b + sqrt(delta)) / (2*a)\n",
    "        print(\"Phương trình có 2 nghiệm phân biệt:\")\n",
    "        print(\"x1 =\", x1)\n",
    "        print(\"x2 =\", x2)\n"
   ]
  },
  {
   "cell_type": "markdown",
   "id": "37c09810",
   "metadata": {},
   "source": [
    "# Câu 4: Hãy cho biết kết quả của Boolean Expression\n",
    "Yêu cầu:\n",
    "Cho x, y, z = 3, 5, 7. Hãy cho biết kết quả của Boolean Expression\n",
    "(a) x == 3\n",
    "(b) x < y\n",
    "(c) x >= y\n",
    "(d) x <= y\n",
    "(e) x != y - 2\n",
    "(f) x < 10\n",
    "(g) x >= 0 and x < 10\n",
    "(h) x < 0 and x < 10\n",
    "(i) x >= 0 and x < 2\n",
    "(j) x < 0 or x < 10\n",
    "(k) x > 0 or x < 10\n",
    "(l) x < 0 or x > 10\n",
    "\n",
    "-----------------------------------Bài làm------------------------------------\n",
    "\n",
    "(a) x == 3            \n",
    "➔ True\n",
    "\n",
    "(b) x < y             \n",
    "➔ True\n",
    "\n",
    "(c) x >= y           \n",
    " ➔ False\n",
    "\n",
    "(d) x <= y            \n",
    "➔ True\n",
    "\n",
    "(e) x != y - 2        \n",
    "➔ False   # y - 2 = 3, x = 3, nên x == y - 2\n",
    "\n",
    "(f) x < 10            \n",
    "➔ True\n",
    "\n",
    "(g) x >= 0 and x < 10 \n",
    "➔ True\n",
    "\n",
    "(h) x < 0 and x < 10  \n",
    "➔ False   \n",
    "x < 0 là False\n",
    "\n",
    "(i) x >= 0 and x < 2  \n",
    "➔ False   \n",
    "x < 2 là False\n",
    "\n",
    "(j) x < 0 or x < 10   \n",
    "➔ True    \n",
    "x < 10 là True\n",
    "\n",
    "(k) x > 0 or x < 10   \n",
    "➔ True    \n",
    "x > 0 là True\n",
    "\n",
    "(l) x < 0 or x > 10   \n",
    "➔ False   \n",
    "cả hai đều False\n",
    "\n"
   ]
  },
  {
   "cell_type": "markdown",
   "id": "88f86c57",
   "metadata": {},
   "source": [
    "# Câu 5: Hãy cho biết kết quả xuất ra màn hình\n",
    "Yêu cầu:\n",
    "\n",
    "Cho i, j, k là các con số và lệnh dưới đây:\n",
    "\n",
    "Hãy cho biết kết quả xuất ra màn hình nếu tuần tự 3 biến trên có các giá trị sau:\n",
    "\n",
    "(a) i = 3, j = 5, and k = 7\n",
    "\n",
    "(b) i = 3, j = 7, and k = 5\n",
    "\n",
    "(c) i = 5, j = 3, and k = 7\n",
    "\n",
    "(d) i = 5, j = 7, and k =3\n",
    "\n",
    "(e) i = 7, j = 3, and k = 5\n",
    "\n",
    "(f) i =7, j = 5, and k = 3\n",
    "\n",
    "-----------------------------------Bài làm----------------------------------------\n",
    "\n",
    "(a) i = 3, j = 5, k = 7   \n",
    "➔ 3 5 7\n",
    "\n",
    "(b) i = 3, j = 7, k = 5   \n",
    "➔ 3 7 5\n",
    "\n",
    "(c) i = 5, j = 3, k = 7   \n",
    "➔ 5 3 7\n",
    "\n",
    "(d) i = 5, j = 7, k = 3   \n",
    "➔ 5 7 3\n",
    "\n",
    "(e) i = 7, j = 3, k = 5   \n",
    "➔ 7 3 5\n",
    "\n",
    "(f) i = 7, j = 5, k = 3   \n",
    "➔ 7 5 3\n"
   ]
  },
  {
   "cell_type": "markdown",
   "id": "0c7c04cb",
   "metadata": {},
   "source": [
    "# Câu 6: Nhập một số n có tối đa 2 chữ số. Hãy cho biết cách đọc ra dạng chữ.\n",
    "\n",
    "(vd: n=35 => Ba mươi lăm, n=5 => năm)"
   ]
  },
  {
   "cell_type": "code",
   "execution_count": null,
   "id": "177046c9",
   "metadata": {},
   "outputs": [
    {
     "name": "stdout",
     "output_type": "stream",
     "text": [
      "chín mươi chín\n"
     ]
    }
   ],
   "source": [
    "# Câu 6: Đọc số n có tối đa 2 chữ số ra dạng chữ\n",
    "\n",
    "n = int(input(\"Nhập số n (tối đa 2 chữ số): \"))\n",
    "\n",
    "donvi = [\"\", \"một\", \"hai\", \"ba\", \"bốn\", \"năm\", \"sáu\", \"bảy\", \"tám\", \"chín\"]\n",
    "hangchuc = [\"\", \"mười\", \"hai mươi\", \"ba mươi\", \"bốn mươi\", \"năm mươi\", \"sáu mươi\", \"bảy mươi\", \"tám mươi\", \"chín mươi\"]\n",
    "\n",
    "if n < 0 or n > 99:\n",
    "    print(\"Chỉ nhập số từ 0 đến 99!\")\n",
    "elif n < 10:\n",
    "    if n == 0:\n",
    "        print(\"Không\")\n",
    "    else:\n",
    "        print(donvi[n])\n",
    "else:\n",
    "    chuc = n // 10\n",
    "    dv = n % 10\n",
    "    if dv == 0:\n",
    "        print(hangchuc[chuc])\n",
    "    elif chuc == 1 and dv == 5:\n",
    "        print(\"Mười lăm\")\n",
    "    elif chuc == 1:\n",
    "        print(\"Mười\", donvi[dv])\n",
    "    elif dv == 1:\n",
    "        print(hangchuc[chuc], \"mốt\")\n",
    "    elif dv == 5:\n",
    "        print(hangchuc[chuc], \"lăm\")\n",
    "    else:\n",
    "        print(hangchuc[chuc], donvi[dv])"
   ]
  },
  {
   "cell_type": "markdown",
   "id": "6e7d0796",
   "metadata": {},
   "source": [
    "# Câu 7: Nhập vào một ngày (ngày, tháng, năm). Tìm ngày kế sau ngày\n",
    "\n",
    "vừa nhập (ngày/tháng/năm)"
   ]
  },
  {
   "cell_type": "code",
   "execution_count": null,
   "id": "850c7e98",
   "metadata": {},
   "outputs": [
    {
     "name": "stdout",
     "output_type": "stream",
     "text": [
      "Ngày kế tiếp là: 28/1/2005\n"
     ]
    }
   ],
   "source": [
    "# Câu 7: Nhập vào một ngày (ngày, tháng, năm). Tìm ngày kế sau ngày vừa nhập\n",
    "\n",
    "def is_leap(year):\n",
    "    return (year % 4 == 0 and year % 100 != 0) or (year % 400 == 0)\n",
    "\n",
    "def days_in_month(month, year):\n",
    "    if month in [1,3,5,7,8,10,12]:\n",
    "        return 31\n",
    "    elif month in [4,6,9,11]:\n",
    "        return 30\n",
    "    elif month == 2:\n",
    "        return 29 if is_leap(year) else 28\n",
    "    else:\n",
    "        return 0\n",
    "\n",
    "day = int(input(\"Nhập ngày: \"))\n",
    "month = int(input(\"Nhập tháng: \"))\n",
    "year = int(input(\"Nhập năm: \"))\n",
    "\n",
    "dmax = days_in_month(month, year)\n",
    "if day < dmax:\n",
    "    day += 1\n",
    "else:\n",
    "    day = 1\n",
    "    if month == 12:\n",
    "        month = 1\n",
    "        year += 1\n",
    "    else:\n",
    "        month += 1\n",
    "\n",
    "print(f\"Ngày kế tiếp là: {day}/{month}/{year}\")"
   ]
  },
  {
   "cell_type": "markdown",
   "id": "a7752e0b",
   "metadata": {},
   "source": [
    "# Câu 8: Nhập vào 2 giá trị a, b và phép toán ‘+’, ‘-’, ‘*’, ‘/’ . Hãy xuất kết quả theo\n",
    "\n",
    "đúng phép toán đã nhập."
   ]
  },
  {
   "cell_type": "code",
   "execution_count": null,
   "id": "de6f67a7",
   "metadata": {},
   "outputs": [
    {
     "name": "stdout",
     "output_type": "stream",
     "text": [
      "Kết quả: 17.0\n"
     ]
    }
   ],
   "source": [
    "# Câu 8: Nhập vào 2 giá trị a, b và phép toán '+', '-', '*', '/'. Hãy xuất kết quả theo đúng phép toán đã nhập.\n",
    "\n",
    "a = float(input(\"Nhập số a: \"))\n",
    "b = float(input(\"Nhập số b: \"))\n",
    "op = input(\"Nhập phép toán (+, -, *, /): \")\n",
    "\n",
    "if op == '+':\n",
    "    print(\"Kết quả:\", a + b)\n",
    "elif op == '-':\n",
    "    print(\"Kết quả:\", a - b)\n",
    "elif op == '*':\n",
    "    print(\"Kết quả:\", a * b)\n",
    "elif op == '/':\n",
    "    if b != 0:\n",
    "        print(\"Kết quả:\", a / b)\n",
    "    else:\n",
    "        print(\"Không thể chia cho 0!\")\n",
    "else:\n",
    "    print(\"Phép toán không hợp lệ!\")"
   ]
  },
  {
   "cell_type": "markdown",
   "id": "ea1b1f3e",
   "metadata": {},
   "source": [
    "# Câu 9: Nhập vào 1 tháng, xuất ra tháng đó thuộc quý mấy trong năm"
   ]
  },
  {
   "cell_type": "code",
   "execution_count": null,
   "id": "7806776d",
   "metadata": {},
   "outputs": [
    {
     "name": "stdout",
     "output_type": "stream",
     "text": [
      "Tháng 12 thuộc quý 4\n"
     ]
    }
   ],
   "source": [
    "# Câu 9: Nhập vào 1 tháng, xuất ra tháng đó thuộc quý mấy trong năm\n",
    "\n",
    "month = int(input(\"Nhập vào tháng (1-12): \"))\n",
    "\n",
    "if 1 <= month <= 3:\n",
    "    print(f\"Tháng {month} thuộc quý 1\")\n",
    "elif 4 <= month <= 6:\n",
    "    print(f\"Tháng {month} thuộc quý 2\")\n",
    "elif 7 <= month <= 9:\n",
    "    print(f\"Tháng {month} thuộc quý 3\")\n",
    "elif 10 <= month <= 12:\n",
    "    print(f\"Tháng {month} thuộc quý 4\")\n",
    "else:\n",
    "    print(\"Tháng không hợp lệ!\")"
   ]
  },
  {
   "cell_type": "markdown",
   "id": "9d814188",
   "metadata": {},
   "source": [
    "# Câu 10: Tính dãy số\n",
    "Yêu cầu:\n",
    "Cho biểu thức toán học sau:\n",
    "Viết chương trình cho phép nhập x, n và xuất ra kết quả của biểu thức"
   ]
  },
  {
   "cell_type": "code",
   "execution_count": null,
   "id": "a80023e5",
   "metadata": {},
   "outputs": [
    {
     "name": "stdout",
     "output_type": "stream",
     "text": [
      "s(2,3)=5.333333333333333\n"
     ]
    }
   ],
   "source": [
    "x=int(input(\"Nhập x:\"))\n",
    "n=int(input(\"Nhập N:\"))\n",
    "s=0\n",
    "for i in range(1,n+1):\n",
    " tu=x**i\n",
    " mau=1\n",
    " for j in range(1,i+1):\n",
    "     mau=mau*j\n",
    " s=s+(tu/mau)\n",
    "print(\"s({0},{1})={2}\".format(x,n,s))"
   ]
  },
  {
   "cell_type": "markdown",
   "id": "24741fb4",
   "metadata": {},
   "source": [
    "# Câu 11: Kiểm tra số nguyên tố\n",
    "\n",
    "Yêu cầu:\n",
    "\n",
    "Viết chương trình nhập vào một số, kiểm tra xem số này có phải là số nguyên tố\n",
    "hay không. Hỏi người dùng có tiếp tục sử dụng hay thoát phần mềm."
   ]
  },
  {
   "cell_type": "code",
   "execution_count": null,
   "id": "d5c362f8",
   "metadata": {},
   "outputs": [
    {
     "name": "stderr",
     "output_type": "stream",
     "text": [
      "<>:12: SyntaxWarning: \"is\" with 'str' literal. Did you mean \"==\"?\n",
      "<>:12: SyntaxWarning: \"is\" with 'str' literal. Did you mean \"==\"?\n",
      "C:\\Users\\TunnIT\\AppData\\Local\\Temp\\ipykernel_15068\\1218384009.py:12: SyntaxWarning: \"is\" with 'str' literal. Did you mean \"==\"?\n",
      "  if hoi is \"k\":\n"
     ]
    },
    {
     "name": "stdout",
     "output_type": "stream",
     "text": [
      "10 không là số nguyên tố\n",
      "3 là số nguyên tố\n",
      "BYE!\n"
     ]
    }
   ],
   "source": [
    "while True:\n",
    "    n=int(input(\"Nhập số nguyên dương n: \"))\n",
    "    dem=0\n",
    "    for i in range(1,n+1):\n",
    "        if n%i==0:\n",
    "            dem+=1\n",
    "    if dem==2:\n",
    "        print(n,\"là số nguyên tố\")\n",
    "    else:\n",
    "        print(n,\"không là số nguyên tố\")\n",
    "    hoi=input(\"Tiếp không Thím?(c/k):\")\n",
    "    if hoi is \"k\":\n",
    "        break\n",
    "print(\"BYE!\")"
   ]
  },
  {
   "cell_type": "markdown",
   "id": "ad6a15e1",
   "metadata": {},
   "source": [
    "# Câu 12: Xuất bảng cửu chương\n",
    "\n",
    "Yêu cầu:\n",
    "\n",
    "Xuất bảng cửu chương 2→9 như hình dưới đây.\n"
   ]
  },
  {
   "cell_type": "code",
   "execution_count": null,
   "id": "5f6ebd70",
   "metadata": {},
   "outputs": [
    {
     "name": "stdout",
     "output_type": "stream",
     "text": [
      "2* 1= 2\t\t3* 1= 3\t\t4* 1= 4\t\t5* 1= 5\t\t6* 1= 6\t\t7* 1= 7\t\t8* 1= 8\t\t9* 1= 9\t\t\n",
      "2* 2= 4\t\t3* 2= 6\t\t4* 2= 8\t\t5* 2=10\t\t6* 2=12\t\t7* 2=14\t\t8* 2=16\t\t9* 2=18\t\t\n",
      "2* 3= 6\t\t3* 3= 9\t\t4* 3=12\t\t5* 3=15\t\t6* 3=18\t\t7* 3=21\t\t8* 3=24\t\t9* 3=27\t\t\n",
      "2* 4= 8\t\t3* 4=12\t\t4* 4=16\t\t5* 4=20\t\t6* 4=24\t\t7* 4=28\t\t8* 4=32\t\t9* 4=36\t\t\n",
      "2* 5=10\t\t3* 5=15\t\t4* 5=20\t\t5* 5=25\t\t6* 5=30\t\t7* 5=35\t\t8* 5=40\t\t9* 5=45\t\t\n",
      "2* 6=12\t\t3* 6=18\t\t4* 6=24\t\t5* 6=30\t\t6* 6=36\t\t7* 6=42\t\t8* 6=48\t\t9* 6=54\t\t\n",
      "2* 7=14\t\t3* 7=21\t\t4* 7=28\t\t5* 7=35\t\t6* 7=42\t\t7* 7=49\t\t8* 7=56\t\t9* 7=63\t\t\n",
      "2* 8=16\t\t3* 8=24\t\t4* 8=32\t\t5* 8=40\t\t6* 8=48\t\t7* 8=56\t\t8* 8=64\t\t9* 8=72\t\t\n",
      "2* 9=18\t\t3* 9=27\t\t4* 9=36\t\t5* 9=45\t\t6* 9=54\t\t7* 9=63\t\t8* 9=72\t\t9* 9=81\t\t\n",
      "2*10=20\t\t3*10=30\t\t4*10=40\t\t5*10=50\t\t6*10=60\t\t7*10=70\t\t8*10=80\t\t9*10=90\t\t\n"
     ]
    }
   ],
   "source": [
    "for i in range(1,11):\n",
    "     for j in range(2,10):\n",
    "         line=\"{0}*{1:>2}={2:>2}\".format(j,i,i*j)\n",
    "         print(line,end='\\t\\t')\n",
    "     print()"
   ]
  },
  {
   "cell_type": "markdown",
   "id": "99a0e697",
   "metadata": {},
   "source": [
    "# Câu 13: Cho biết bao nhiêu dấu * được in ra trên màn hình\n",
    "\n",
    "Yêu cầu:\n",
    "\n",
    "Cho biết bao nhiêu dấu * được in ra trên màn hình\n",
    "\n",
    "a=0\n",
    "\n",
    "while a<100:\n",
    "\n",
    "    print(\"*\",end=\"\")\n",
    "\n",
    "    print()\n",
    "\n",
    "----------------------------------Bài Làm--------------------------------------\n",
    "\n",
    "Có **100 dấu *** được in ra màn hình."
   ]
  },
  {
   "cell_type": "markdown",
   "id": "86cfd5eb",
   "metadata": {},
   "source": [
    "# Câu 14: Cho biết bao nhiêu dấu * được in ra trên màn hình\n",
    "Yêu cầu:\n",
    "\n",
    "Cho biết bao nhiêu dấu * được in ra trên màn hình\n",
    "\n",
    "-----------------------------------------------Bài Làm---------------------------------------------\n",
    "\n",
    "Nó sẽ in ra 2.020 dấu *"
   ]
  },
  {
   "cell_type": "code",
   "execution_count": 2,
   "id": "403905a4",
   "metadata": {},
   "outputs": [
    {
     "name": "stdout",
     "output_type": "stream",
     "text": [
      "*********************\n",
      "*********************\n",
      "*********************\n",
      "*********************\n",
      "*********************\n",
      "*********************\n",
      "*********************\n",
      "*********************\n",
      "*********************\n",
      "*********************\n",
      "*********************\n",
      "*********************\n",
      "*********************\n",
      "*********************\n",
      "*********************\n",
      "*********************\n",
      "*********************\n",
      "*********************\n",
      "*********************\n",
      "*********************\n",
      "*********************\n",
      "*********************\n",
      "*********************\n",
      "*********************\n",
      "*********************\n",
      "*********************\n",
      "*********************\n",
      "*********************\n",
      "*********************\n",
      "*********************\n",
      "*********************\n",
      "*********************\n",
      "*********************\n",
      "*********************\n",
      "*********************\n",
      "*********************\n",
      "*********************\n",
      "*********************\n",
      "*********************\n",
      "*********************\n",
      "*********************\n",
      "*********************\n",
      "*********************\n",
      "*********************\n",
      "*********************\n",
      "*********************\n",
      "*********************\n",
      "*********************\n",
      "*********************\n",
      "*********************\n",
      "*********************\n",
      "*********************\n",
      "*********************\n",
      "*********************\n",
      "*********************\n",
      "*********************\n",
      "*********************\n",
      "*********************\n",
      "*********************\n",
      "*********************\n",
      "*********************\n",
      "*********************\n",
      "*********************\n",
      "*********************\n",
      "*********************\n",
      "*********************\n",
      "*********************\n",
      "*********************\n",
      "*********************\n",
      "*********************\n",
      "*********************\n",
      "*********************\n",
      "*********************\n",
      "*********************\n",
      "*********************\n",
      "*********************\n",
      "*********************\n",
      "*********************\n",
      "*********************\n",
      "*********************\n",
      "*********************\n",
      "*********************\n",
      "*********************\n",
      "*********************\n",
      "*********************\n",
      "*********************\n",
      "*********************\n",
      "*********************\n",
      "*********************\n",
      "*********************\n",
      "*********************\n",
      "*********************\n",
      "*********************\n",
      "*********************\n",
      "*********************\n",
      "*********************\n",
      "*********************\n",
      "*********************\n",
      "*********************\n",
      "*********************\n"
     ]
    }
   ],
   "source": [
    "a=0\n",
    "while a<100:\n",
    "    print(\"*\",end=\"\")\n",
    "    b=0\n",
    "    while b<40:\n",
    "        if (a+b)%2==0:\n",
    "            print(\"*\",end=\"\")\n",
    "        b+=1\n",
    "    print()\n",
    "    a+=1"
   ]
  },
  {
   "cell_type": "markdown",
   "id": "13d83af7",
   "metadata": {},
   "source": [
    "# Câu 15: Giải thích cách chạy các dòng lệnh range\n",
    "\n",
    "Giải thích cách chạy các dòng lệnh range\n",
    "\n",
    "(a) range(5)\n",
    "-> Sinh ra các số: 0, 1, 2, 3, 4\n",
    "\n",
    "(b) range(5, 10)\n",
    "-> Sinh ra các số: 5, 6, 7, 8, 9\n",
    "\n",
    "(c) range(5, 20, 3)\n",
    "-> Sinh ra các số: 5, 8, 11, 14, 17\n",
    "\n",
    "(d) range(20, 5, -1)\n",
    "-> Sinh ra các số: 20, 19, 18, ..., 6\n",
    "\n",
    "(e) range(20, 5, -3)\n",
    "-> Sinh ra các số: 20, 17, 14, 11, 8\n",
    "\n",
    "(f) range(10, 5)\n",
    "-> Không sinh ra số nào (rỗng), vì mặc định bước là +1.\n",
    "\n",
    "(g) range(0)\n",
    "-> Không sinh ra số nào (rỗng).\n",
    "\n",
    "(h) range(10, 101, 10)\n",
    "-> inh ra các số: 10, 20, 30, ..., 100\n",
    "\n",
    "(i) range(10, -1, -1)\n",
    "-> Sinh ra các số: 10, 9, 8, ..., 0\n",
    "\n",
    "(j) range(-3, 4)\n",
    "-> Sinh ra các số: -3, -2, -1, 0, 1, 2, 3\n",
    "\n",
    "(k) range(0, 10, 1)\n",
    "-> Sinh ra các số: 0, 1, 2, ..., 9\n"
   ]
  }
 ],
 "metadata": {
  "kernelspec": {
   "display_name": "Python 3",
   "language": "python",
   "name": "python3"
  },
  "language_info": {
   "codemirror_mode": {
    "name": "ipython",
    "version": 3
   },
   "file_extension": ".py",
   "mimetype": "text/x-python",
   "name": "python",
   "nbconvert_exporter": "python",
   "pygments_lexer": "ipython3",
   "version": "3.13.2"
  }
 },
 "nbformat": 4,
 "nbformat_minor": 5
}
